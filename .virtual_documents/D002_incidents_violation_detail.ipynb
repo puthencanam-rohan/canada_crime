from functions import parameters as p
from functions import read_data as rd
from functions import statcan_data as sd



project_parameters = p.Project_Parameters()


params_download_incident_violation_data = {
    'project_parameters': project_parameters,
    'data_key': 'incident_violation_detail',
}
status_ivd = sd.download_statcan_data(params_download_incident_violation_data)
zip_ivd = status_ivd.get('zipfilename',None)


params_read_incident_violation_data = {
    'project_parameters' : project_parameters,
    'filename': zip_ivd,
    'is_zipped': True,
}
status_rivd = rd.read_downloaded_data(params_read_incident_violation_data)


df_ivd = status_rivd.get('value',None)
display(df_ivd.head(5))
display(df_ivd.describe())
df_ivd.info()



def clean_statistics_column(x):
    return (x.replace(" ", "_").lower())

statistics_col_vals_needed = ['Actual incidents','Total cleared']

columns_of_interest = [
    'REF_DATE',
    'GEO',
    'Statistics',
    'VALUE'
]


params_prepare_incidents_data = {
    'dataframe': df_ivd,
    'statistics_values_of_interest': statistics_col_vals_needed,
    'select_columns': columns_of_interest,
    'clean_function_dict': {
        'Statistics': clean_statistics_column,
    }
}

status_prep_ivd = prepare_incidents_data(params_prepare_incidents_data)



ivd_df = status_prep_ivd.get('value', {})

display(ivd_df.head(50))



